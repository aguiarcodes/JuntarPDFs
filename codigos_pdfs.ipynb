{
  "cells": [
    {
      "cell_type": "markdown",
      "metadata": {
        "id": "TMDGAQxG7Txa"
      },
      "source": [
        "# Sumário\n",
        "\n",
        "####1. Convertendo jpeg em pdf;\n",
        "####2. Juntando os pdfs (lembrar de sempre mudar o nome da pasta do comitê. *PS.:* *O código é sensível a letras maiúsculas, acentuação e 'ç', então se tem em um, tem que ter no outro*);\n",
        "###3. Limpando o processo e começando do 0;"
      ]
    },
    {
      "cell_type": "markdown",
      "metadata": {
        "id": "AesW28rXrxZs"
      },
      "source": [
        "##1. Transformar mapas \"jpeg\" em \"pdf\""
      ]
    },
    {
      "cell_type": "code",
      "execution_count": 1,
      "metadata": {
        "colab": {
          "base_uri": "https://localhost:8080/"
        },
        "id": "ZhCu545mqQsP",
        "outputId": "b74bba6f-7faf-4c51-ab79-5a3c4bfd9b96"
      },
      "outputs": [
        {
          "name": "stdout",
          "output_type": "stream",
          "text": [
            "Requirement already satisfied: Pillow in /usr/local/lib/python3.10/dist-packages (9.4.0)\n",
            "Mounted at /content/drive\n"
          ]
        }
      ],
      "source": [
        "!pip install Pillow\n",
        "from google.colab import drive\n",
        "drive.mount('/content/drive') #rodar 1 vez e autorizar conexão"
      ]
    },
    {
      "cell_type": "code",
      "execution_count": 2,
      "metadata": {
        "colab": {
          "base_uri": "https://localhost:8080/"
        },
        "id": "3S4Kj5V9sOcn",
        "outputId": "6fc4718a-01b2-4076-fa67-99c303af692a"
      },
      "outputs": [
        {
          "name": "stdout",
          "output_type": "stream",
          "text": [
            "Africa\t  Asia\t\t\t       Codigo_Mapas_Mapa.ipynb\tEuropa\n",
            "Americas  Codigo_Mapas_Beatrice.ipynb  Dossies\t\t\tOceania\n"
          ]
        }
      ],
      "source": [
        "!ls \"/content/drive/My Drive/caminho/\" #não mexer"
      ]
    },
    {
      "cell_type": "code",
      "execution_count": null,
      "metadata": {
        "colab": {
          "base_uri": "https://localhost:8080/"
        },
        "id": "J_EPuCsIqiL5",
        "outputId": "b864084f-d2f0-40a0-cec3-63b83e4d9372"
      },
      "outputs": [
        {
          "name": "stdout",
          "output_type": "stream",
          "text": [
            "Conversão concluída. PDFs salvos em: /content/drive/My Drive/25 MINIONU/Mapas/Africa/PDF\n"
          ]
        }
      ],
      "source": [
        "#não mexer\n",
        "from PIL import Image\n",
        "import os\n",
        "\n",
        "folder_path = \"/content/drive/My Drive/caminho/JPEG/\"\n",
        "\n",
        "jpeg_files = [os.path.join(folder_path, f) for f in os.listdir(folder_path) if f.endswith(\".jpeg\") or f.endswith(\".jpg\")]\n",
        "\n",
        "output_folder = \"/content/drive/My Drive/caminho/PDFs/\"\n",
        "\n",
        "os.makedirs(output_folder, exist_ok=True)\n",
        "\n",
        "for jpeg_file in jpeg_files:\n",
        "    image = Image.open(jpeg_file)\n",
        "    pdf_path = os.path.join(output_folder, os.path.splitext(os.path.basename(jpeg_file))[0] + '.pdf')\n",
        "    image.convert('RGB').save(pdf_path, 'PDF', resolution=100.0)\n",
        "\n",
        "print(\"Conversão concluída. PDFs salvos em:\", output_folder) #não mexer"
      ]
    },
    {
      "cell_type": "markdown",
      "metadata": {
        "id": "MvZ9jQG-r5k7"
      },
      "source": [
        "##2. Juntar PDFs\n",
        "\n",
        "####Para isso, lembrar de mudar a pasta em cada código, antes de executar as células (executar apenas daqui pra baixo)"
      ]
    },
    {
      "cell_type": "code",
      "execution_count": 3,
      "metadata": {
        "colab": {
          "base_uri": "https://localhost:8080/"
        },
        "id": "1jlVdsEHkZO4",
        "outputId": "9308c0db-c9d5-4b04-e970-b6c849f2b7b3"
      },
      "outputs": [
        {
          "name": "stdout",
          "output_type": "stream",
          "text": [
            "Collecting PyPDF2\n",
            "  Downloading pypdf2-3.0.1-py3-none-any.whl.metadata (6.8 kB)\n",
            "Downloading pypdf2-3.0.1-py3-none-any.whl (232 kB)\n",
            "\u001b[?25l   \u001b[90m━━━━━━━━━━━━━━━━━━━━━━━━━━━━━━━━━━━━━━━━\u001b[0m \u001b[32m0.0/232.6 kB\u001b[0m \u001b[31m?\u001b[0m eta \u001b[36m-:--:--\u001b[0m\r\u001b[2K   \u001b[91m━━━━━━━━━━━━━━━━━━━━━━━━━━\u001b[0m\u001b[90m╺\u001b[0m\u001b[90m━━━━━━━━━━━━━\u001b[0m \u001b[32m153.6/232.6 kB\u001b[0m \u001b[31m4.7 MB/s\u001b[0m eta \u001b[36m0:00:01\u001b[0m\r\u001b[2K   \u001b[90m━━━━━━━━━━━━━━━━━━━━━━━━━━━━━━━━━━━━━━━━\u001b[0m \u001b[32m232.6/232.6 kB\u001b[0m \u001b[31m4.1 MB/s\u001b[0m eta \u001b[36m0:00:00\u001b[0m\n",
            "\u001b[?25hInstalling collected packages: PyPDF2\n",
            "Successfully installed PyPDF2-3.0.1\n",
            "Drive already mounted at /content/drive; to attempt to forcibly remount, call drive.mount(\"/content/drive\", force_remount=True).\n"
          ]
        }
      ],
      "source": [
        "#rodar apenas uma vez\n",
        "!pip install PyPDF2\n",
        "from google.colab import drive\n",
        "drive.mount('/content/drive')"
      ]
    },
    {
      "cell_type": "code",
      "execution_count": 4,
      "metadata": {
        "id": "yJmT3Y2rkloJ"
      },
      "outputs": [],
      "source": [
        "#rodar apenas uma vez\n",
        "import os\n",
        "from PyPDF2 import PdfMerger"
      ]
    },
    {
      "cell_type": "markdown",
      "metadata": {
        "id": "Uvki6pK8sKVH"
      },
      "source": [
        "###A partir daqui, rodar todas, em ordem, para cada comitê"
      ]
    },
    {
      "cell_type": "code",
      "execution_count": 5,
      "metadata": {
        "id": "8qTyJPcjkmc_"
      },
      "outputs": [],
      "source": [
        "mapas_folder = '/content/drive/My Drive/PDF/' #lembrar de colocar o endreço da pasta de entrada\n",
        "dossies_folder = '/content/drive/My Drive/PDFSJUNTADOS/' #lembrar de colocar o endreço da pasta de saída"
      ]
    },
    {
      "cell_type": "code",
      "execution_count": 6,
      "metadata": {
        "colab": {
          "base_uri": "https://localhost:8080/"
        },
        "id": "8dLkiFy-o0X7",
        "outputId": "3bcbac1d-76f6-4568-cea1-450b5cd21a6f"
      },
      "outputs": [
        {
          "name": "stdout",
          "output_type": "stream",
          "text": [
            "Processamento concluído. PDFs salvos na pasta.\n"
          ]
        }
      ],
      "source": [
        "#lista de arquivos pdf na pasta de entrada\n",
        "mapas_files = {f.lower(): f for f in os.listdir(mapas_folder) if f.endswith(\".pdf\")}\n",
        "dossies_files = {f.lower(): f for f in os.listdir(dossies_folder) if f.endswith(\".pdf\")}\n",
        "\n",
        "#junta os arquivos pdf correspondentes ou mover os arquivos de entrada\n",
        "for dossies_file_lower, dossies_file in dossies_files.items():\n",
        "    dossies_path = os.path.join(dossies_folder, dossies_file)\n",
        "    merger = PdfMerger()\n",
        "\n",
        "#garantindo que há correspondência entre as pastas\n",
        "    if dossies_file_lower in mapas_files:\n",
        "        mapas_file = mapas_files[dossies_file_lower]\n",
        "        mapas_path = os.path.join(mapas_folder, mapas_file)\n",
        "        merger.append(dossies_path)  #adiciona o pdf de entrada\n",
        "        merger.append(mapas_path)    #adiciona o pdf de saída\n",
        "    else:\n",
        "        merger.append(dossies_path)  #apenas adiciona pdfs com correspondência de nome entre as pastas\n",
        "    \n",
        "    output_path = os.path.join(dossies_folder, dossies_file)\n",
        "    merger.write(output_path)\n",
        "    merger.close()\n",
        "\n",
        "print(\"Processamento concluído. PDFs salvos na pasta.\")"
      ]
    },
    {
      "cell_type": "markdown",
      "metadata": {
        "id": "IqvLtvSEwfKE"
      },
      "source": [
        "###3. Limpar pdfs (rodar esse código desfaz todo o processo, use-o em caso de algum erro e depois rode os códigos do item #2 novamente)\n"
      ]
    },
    {
      "cell_type": "code",
      "execution_count": 37,
      "metadata": {
        "colab": {
          "base_uri": "https://localhost:8080/"
        },
        "id": "EOrVy9XRwJKC",
        "outputId": "46dcccf8-6110-45cc-8233-838d04db9a26"
      },
      "outputs": [
        {
          "name": "stdout",
          "output_type": "stream",
          "text": [
            "Processamento concluído. Última página removida dos PDFs com exatamente 3 páginas.\n"
          ]
        }
      ],
      "source": [
        "import os\n",
        "from PyPDF2 import PdfReader, PdfWriter\n",
        "\n",
        "#pasta a ser formatada\n",
        "pdf_folder = '/content/drive/My Drive/PDFSJUNTADOS/'\n",
        "\n",
        "#lista de arquivos PDF na pasta\n",
        "pdf_files = [f for f in os.listdir(pdf_folder) if f.endswith(\".pdf\")]\n",
        "\n",
        "#remover a última página de PDFs com exatamente X páginas\n",
        "for pdf_file in pdf_files:\n",
        "    pdf_path = os.path.join(pdf_folder, pdf_file)\n",
        "    reader = PdfReader(pdf_path)\n",
        "\n",
        "    if len(reader.pages) == 4:\n",
        "        writer = PdfWriter()\n",
        "        for i in range(1): \n",
        "            writer.add_page(reader.pages[i])\n",
        "\n",
        "        #salvar o PDF modificado\n",
        "        with open(pdf_path, \"wb\") as output_pdf:\n",
        "            writer.write(output_pdf)\n",
        "\n",
        "print(\"Processamento concluído. Última página removida dos PDFs com exatamente X páginas.\")"
      ]
    }
  ],
  "metadata": {
    "colab": {
      "provenance": []
    },
    "kernelspec": {
      "display_name": "Python 3",
      "name": "python3"
    },
    "language_info": {
      "name": "python"
    }
  },
  "nbformat": 4,
  "nbformat_minor": 0
}
